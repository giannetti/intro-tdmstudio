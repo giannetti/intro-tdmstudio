{
 "cells": [
  {
   "cell_type": "markdown",
   "metadata": {
    "id": "qUIlcCahK8ZN"
   },
   "source": [
    "# R Introduction to TDM Studio\n",
    "\n",
    "This is a brief presentation of the capabilities of ProQuest’s [TDM Studio](https://tdmstudio.proquest.com/), modeled in part on the introductory R materials in the Workbench and on [Moacir de Sá Pereira's TDM Studio notebook](https://github.com/columbia-data-club/meetings/blob/main/2025/TDM_Studio_Walkthrough.ipynb).\n",
    "\n",
    "I'm using R here, but there are Python materials available in the Workbench and on the [Columbia Data Club's GitHub repository](https://github.com/columbia-data-club/meetings/tree/main/2025).\n",
    "\n",
    "There are three steps to using TDM Studio Workbench:\n",
    "\n",
    "1. Search ProQuest using search tools\n",
    "2. Filter the results and save them as a dataset\n",
    "3. Read the dataset into your TDM Studio Jupyter notebook\n",
    "\n"
   ]
  },
  {
   "cell_type": "markdown",
   "metadata": {
    "id": "lhtLMLlnILF-"
   },
   "source": [
    "## Search ProQuest and Filter Results\n",
    "\n",
    "You can use all the [ProQuest field codes](https://www.proquest.com/help/academic/View_Field_Codes.html#frequently_used) to search all the databases.\n",
    "\n",
    "![TDM Studio search for Labubu](labubu-search.png)\n",
    "\n",
    "Data sets can have no more than 2 million documents, and you can only have 10 datasets at once, but the actual limits on how many articles you can analyze is determined by your workbench’s disk size.\n",
    "\n",
    "Once the dataset is saved, in the background, TDM Studio starts copying it to your Workbench‘s `data/` folder."
   ]
  },
  {
   "cell_type": "markdown",
   "metadata": {
    "id": "XHKKDKGn2zDU"
   },
   "source": [
    "## Reading Data into your Jupyter Notebook\n",
    "\n",
    "Simply put, your Workbench is a virtual Windows computer managed by ProQuest, and the only thing you can do on this computer is run Jupyter. Because it is a virtual computer, copying information and files to and from it is a convoluted process, but one you can get the hang of reasonably quickly.\n",
    "\n",
    "![A Windows computer running inside a browser window.](tdm-studio-jupyter.png)"
   ]
  },
  {
   "cell_type": "markdown",
   "metadata": {
    "id": "5vNkuQnlm_F4"
   },
   "source": [
    "Your datasets appear in the data folder, and the format of each dataset is the same: a large number of XML files, one for each article in your dataset, each named with the unique ID ProQuest uses for the article."
   ]
  },
  {
   "cell_type": "markdown",
   "metadata": {
    "id": "5vNkuQnlm_F4"
   },
   "source": [
    "## Using the Terminal to Examine XML Structure\n",
    "\n",
    "Let's navigate in a Terminal window to examine one of the XML files. From the root directory, press the `New` dropdown menu on the right and select Terminal. Enter these unix commands *one at a time* in Terminal, followed by return/enter, to navigate and inspect one of the XML files. Alternatively, follow along with the instructions in this [PQ video](https://pq-edu.com/Camtasia%20Product%20Training%20Videos/TDM%20Studio/View%20an%20XML%20Document%20in%20TDM%20Studio/View%20an%20XML%20Document%20in%20TDM%20Studio_player.html)."
   ]
  },
  {
   "cell_type": "code",
   "execution_count": null,
   "metadata": {
    "id": "oraoZe0d65id",
    "vscode": {
     "languageId": "shellscript"
    }
   },
   "outputs": [],
   "source": [
    "# cd means change directory; ls means list files in current directory\n",
    "cd Sagemaker/data\n",
    "ls\n",
    "cd [INSERT NAME OF DATASET]\n",
    "ls\n",
    "# use vim to inspect one XML document; exit vim using `:q!` command\n",
    "vim [docid].xml"
   ]
  },
  {
   "cell_type": "markdown",
   "metadata": {
    "id": "O21Wg4e6-0Yd"
   },
   "source": [
    "XML is a rich, text-based data format that nests information inside tags. It’s somewhat comparable to a deeply structured JSON file or a deeply nested Python dictionary."
   ]
  },
  {
   "cell_type": "markdown",
   "metadata": {},
   "source": [
    "## Using this Handout in TDM Studio\n",
    "\n",
    "To use this handout in TDM Studio, we will first need to upload it to the Windows virtual machine. You may wish to follow along with [this video](https://pq-edu.com/Camtasia%20Product%20Training%20Videos/TDM%20Studio/Uploading%20Content%20to%20TDM%20Studio/Uploading%20Content%20to%20TDM%20Studio_player.html) prepared by the ProQuest team. Briefly, this is a two step process, outlined below:\n",
    "\n",
    "1. In the jupyter notebook interface, click on \"My Files\" in the uppermost navigation window\n",
    "2. Select Temporary Files and press \"Upload file(s)\"\n",
    "3. Navigate to where you saved this handout saved on your local drive and select \"Open\"\n",
    "4. When the file is uploaded, close the \"My Files\" dialog\n",
    "5. In the Windows VM, move the file to the jupyter notebook application; navigate to where you want to store the file and press the \"Upload\" button on the right\n",
    "6. Select `My Files/Temporary Files/R_intro_tdmstudio.ipynb` and press \"Open\"\n",
    "7. Next to the file you just uploaded in the jupyter interface, you will see an \"Upload\" button; press it\n",
    "\n",
    "Now you should be ready to go!"
   ]
  },
  {
   "cell_type": "code",
   "execution_count": null,
   "metadata": {
    "id": "kexeBJIW9WQz"
   },
   "outputs": [],
   "source": [
    "# Set timezone env variable to UTC for our date extraction library\n",
    "Sys.setenv(\"TZ\"=\"ECT/UTC\")\n",
    "\n",
    "# Load libraries\n",
    "library(xml2);          # XML processing\n",
    "library(rvest);         # Cleanly strip HTML from document text\n",
    "library(parallel);      # Multi-core processing\n",
    "library(data.table);    # Fast reading/writing data\n",
    "library(dplyr);         # Data manipulation\n",
    "library(ggplot2);       # Visualizations\n",
    "library(clock);\n"
   ]
  },
  {
   "cell_type": "markdown",
   "metadata": {
    "id": "Fg-U7ASPB055"
   },
   "source": [
    "Begin by making sure our output directory exists. This is the directory in which the output CSV will be created."
   ]
  },
  {
   "cell_type": "code",
   "execution_count": null,
   "metadata": {},
   "outputs": [],
   "source": [
    "if (!dir.exists(\"../output_files/\")) {\n",
    "    dir.create(\"../output_files/\")\n",
    "}"
   ]
  },
  {
   "cell_type": "markdown",
   "metadata": {
    "id": "8lnkJLl3DJAP"
   },
   "source": [
    "## Create Dataset\n",
    "\n",
    "Create a list of XML files to process into a dataframe. Please replace the name `Nobel_Prize_in_literature_mentions_in_WaPo` with the name of your dataset."
   ]
  },
  {
   "cell_type": "code",
   "execution_count": null,
   "metadata": {},
   "outputs": [],
   "source": [
    "dataset_name = 'Nobel_Prize_in_literature_mentions_in_WaPo'\n",
    "\n",
    "xml_files <- list.files(paste0('/home/ec2-user/SageMaker/data/', dataset_name), pattern = \"*xml$\", full.names = TRUE)\n",
    "print(paste(\"Files in dataset\", length(xml_files)))"
   ]
  },
  {
   "cell_type": "markdown",
   "metadata": {},
   "source": [
    "## Visualizing the XML Structure\n",
    "\n",
    "Run this command to print XML node structure as a list. This is just to help use see the XML structure and find data to extract."
   ]
  },
  {
   "cell_type": "code",
   "execution_count": null,
   "metadata": {},
   "outputs": [],
   "source": [
    "as_list(read_xml(xml_files[1]))"
   ]
  },
  {
   "cell_type": "markdown",
   "metadata": {},
   "source": [
    "## Extract Function\n",
    "\n",
    "This creates the function to extract data from the XML structure, and can be altered to extract other XML nodes. This function will process a single XML file, extract the indicated data, and append it to a CSV file named after the dataset.\n",
    "\n",
    "To add additional nodes, extract the contents of the node of interest into a variable, as in F.2, then add the variable to the list in F.3."
   ]
  },
  {
   "cell_type": "code",
   "execution_count": null,
   "metadata": {},
   "outputs": [],
   "source": [
    "extract <- function(filename, dataset) {\n",
    "\n",
    "    # F.1\n",
    "    # Read a single XML document\n",
    "    doc_xml <- read_xml(filename)\n",
    "    \n",
    "    # F.2\n",
    "    # Find and extract desired data\n",
    "    Article_ID <- xml_find_all(doc_xml, \"//GOID\") %>% xml_text()\n",
    "    Title <- xml_find_all(doc_xml, \"//TitleAtt/Title\") %>% xml_text()\n",
    "    Date <- xml_find_all(doc_xml, \"//NumericDate\") %>% xml_text()\n",
    "\n",
    "    # This section uses `tryCatch()` to test if a TextInfo node exists, and if not, sets Text variable to NA\n",
    "    tryCatch(\n",
    "        error = function(cnd) Text <<- NA,\n",
    "        Text <- xml_find_all(doc_xml, \"//TextInfo\") %>% xml_text() %>% read_html() %>% html_text()\n",
    "    )\n",
    "    # F.3\n",
    "    # Combine the data into a dataframe and return\n",
    "    df <- as.data.table(cbind(Article_ID,Title,Date,Text))\n",
    "    fwrite(df,paste0(\"../output_files/\", dataset, \".csv\"), append=T)\n",
    "    return()\n",
    "}"
   ]
  },
  {
   "cell_type": "markdown",
   "metadata": {},
   "source": [
    "## Parallel Processing\n",
    "\n",
    "Here we apply the function to our list of documents using the `mclapply()` function. The data from each document will be appended to a CSV file named as the dataset name. The CSV file can be found in the directory in which this notebook is run."
   ]
  },
  {
   "cell_type": "code",
   "execution_count": null,
   "metadata": {},
   "outputs": [],
   "source": [
    "# Take system time\n",
    "start <- proc.time()\n",
    "\n",
    "# remove CSV if it already exists\n",
    "if (file.exists(paste0(\"../output_files/\", dataset_name, '.csv'))) {\n",
    "    # invisible is used here to suppress printing boolean output.\n",
    "    invisible(file.remove(paste0(\"../output_files/\", dataset_name, '.csv')))\n",
    "}\n",
    "tryCatch(\n",
    "    # invisible is used here to suppress printing output. Otherwise `mclapply` would print a vector of all null\n",
    "    invisible(mclapply(xml_files,extract,dataset=dataset_name,mc.cores = detectCores())),\n",
    "    warning = function(w) {\n",
    "        message(\"A warning occurred and the csv may not have been created in full.\")\n",
    "        message(\"This is often due to insufficient disc space to continue writing the csv.\")\n",
    "    },\n",
    "    error = function(e) {\n",
    "        message(\"An error occurred and the csv may not have been created in full.\")\n",
    "        message(paste(\"Error message: \", e))\n",
    "    }\n",
    ")\n",
    "\n",
    "# Show elapsed time\n",
    "difference <- proc.time() - start\n",
    "print(paste(\"Creating the csv file took:\", format(difference[3]), \"seconds.\"))"
   ]
  },
  {
   "cell_type": "markdown",
   "metadata": {},
   "source": [
    "## Explore the Data\n",
    "\n",
    "Prints out the first 3 entries to ensure the data is correct."
   ]
  },
  {
   "cell_type": "code",
   "execution_count": null,
   "metadata": {},
   "outputs": [],
   "source": [
    "fread(file=paste0(\"../output_files/\", dataset_name,'.csv'), nrows=3, integer64='character')"
   ]
  },
  {
   "cell_type": "markdown",
   "metadata": {},
   "source": [
    "## Save data to dataframe\n",
    "\n",
    "Since we already created a csv in the steps above, we are reusing it to create a dataframe object called `df`."
   ]
  },
  {
   "cell_type": "code",
   "execution_count": null,
   "metadata": {},
   "outputs": [],
   "source": [
    "df <- fread(file=paste0(\"../output_files/\", dataset_name,'.csv'), integer64='character')\n",
    "\n",
    "# peek at the dataframe that was created\n",
    "glimpse(df)"
   ]
  },
  {
   "cell_type": "markdown",
   "metadata": {},
   "source": [
    "## Create a column for word count\n",
    "\n",
    "Let's use the `strsplit()` function of base R to create a new column in our data frame containing the word counts of the Text value for each document."
   ]
  },
  {
   "cell_type": "code",
   "execution_count": null,
   "metadata": {},
   "outputs": [],
   "source": [
    "df$word_count <- lengths(strsplit(df$Text, \"\\\\s+\"))\n",
    "df$Article_ID <- as.numeric(df$Article_ID) # retype Article_ID to be a double so we get fewer warnings in R\n",
    "glimpse(df) # have another peek to make sure our new column was added"
   ]
  },
  {
   "cell_type": "markdown",
   "metadata": {},
   "source": [
    "## Plot to Histogram\n",
    "\n",
    "This is a histogram of the documents per each date range bin. The number of bins is set to 10, but may be set otherwise in the cell below."
   ]
  },
  {
   "cell_type": "code",
   "execution_count": null,
   "metadata": {},
   "outputs": [],
   "source": [
    "# Set the number of date bins for the histograms. May be changed as needed.\n",
    "num_bins = 10"
   ]
  },
  {
   "cell_type": "code",
   "execution_count": null,
   "metadata": {},
   "outputs": [],
   "source": [
    "# Set plot size\n",
    "options(repr.plot.width=14,repr.plot.height=10,repr.plot.res=200)\n",
    "\n",
    "df %>% mutate(Date = as.character(Date)) %>%\n",
    "mutate(Date = date_parse(Date)) %>%\n",
    "ggplot() +\n",
    "    geom_histogram(aes(x=Date), fill='#5542a6', bins=num_bins) +\n",
    "    labs(\n",
    "        x=\"Date\",\n",
    "        y=\"Document Count\",\n",
    "        title=\"Documents by Date Bin\"\n",
    "    ) +\n",
    "    theme(\n",
    "        plot.title = element_text(size=22),\n",
    "        axis.title = element_text(size=16),\n",
    "        axis.text = element_text(size=12),\n",
    "        panel.background = element_rect(fill='grey87')\n",
    "    )"
   ]
  },
  {
   "cell_type": "markdown",
   "metadata": {},
   "source": [
    "## Word Count Plot\n",
    "\n",
    "This is a histogram of the documents per word count bin. This could be helpful if you were looking to eliminate very brief articles, for example. The number of bins remains the same as in the above plot."
   ]
  },
  {
   "cell_type": "code",
   "execution_count": null,
   "metadata": {},
   "outputs": [],
   "source": [
    "# Set plot size\n",
    "options(repr.plot.width=14,repr.plot.height=10,repr.plot.res=200)\n",
    "\n",
    "ggplot(df) + geom_histogram(aes(x=word_count), fill='#5542a6', bins=num_bins) +\n",
    "    labs(\n",
    "        x=\"Word Count\",\n",
    "        y=\"Document Count\",\n",
    "        title=\"Documents by Word Count\"\n",
    "    ) +\n",
    "    theme(\n",
    "        plot.title = element_text(size=22),\n",
    "        axis.title = element_text(size=16),\n",
    "        axis.text = element_text(size=12),\n",
    "        panel.background = element_rect(fill='grey87')\n",
    "    )\n"
   ]
  },
  {
   "cell_type": "markdown",
   "metadata": {
    "id": "icPmTCQLlowN"
   },
   "source": [
    "This brief tutorial shows the possibilities with TDM Studio. I have the full text of the articles as a column and can work with the text in a variety of fashions, including feeding each article into model of some sort to have it analyze the sentiment or extract named entities."
   ]
  }
 ],
 "metadata": {
  "colab": {
   "provenance": []
  },
  "kernelspec": {
   "display_name": "R",
   "language": "R",
   "name": "ir"
  },
  "language_info": {
   "codemirror_mode": "r",
   "file_extension": ".r",
   "mimetype": "text/x-r-source",
   "name": "R",
   "pygments_lexer": "r",
   "version": "4.5.1"
  },
  "widgets": {
   "application/vnd.jupyter.widget-state+json": {
    "47aaaceead2f4655957559cb1653cc3a": {
     "model_module": "@jupyter-widgets/controls",
     "model_module_version": "1.5.0",
     "model_name": "HTMLModel",
     "state": {
      "_dom_classes": [],
      "_model_module": "@jupyter-widgets/controls",
      "_model_module_version": "1.5.0",
      "_model_name": "HTMLModel",
      "_view_count": null,
      "_view_module": "@jupyter-widgets/controls",
      "_view_module_version": "1.5.0",
      "_view_name": "HTMLView",
      "description": "",
      "description_tooltip": null,
      "layout": "IPY_MODEL_498f46ec86c2480cbfd9ec37d8b82e5e",
      "placeholder": "​",
      "style": "IPY_MODEL_4d4c1bc995614757aed2ac29865cd9cd",
      "value": " 1006/1006 [00:09&lt;00:00, 106.84it/s]"
     }
    },
    "498f46ec86c2480cbfd9ec37d8b82e5e": {
     "model_module": "@jupyter-widgets/base",
     "model_module_version": "1.2.0",
     "model_name": "LayoutModel",
     "state": {
      "_model_module": "@jupyter-widgets/base",
      "_model_module_version": "1.2.0",
      "_model_name": "LayoutModel",
      "_view_count": null,
      "_view_module": "@jupyter-widgets/base",
      "_view_module_version": "1.2.0",
      "_view_name": "LayoutView",
      "align_content": null,
      "align_items": null,
      "align_self": null,
      "border": null,
      "bottom": null,
      "display": null,
      "flex": null,
      "flex_flow": null,
      "grid_area": null,
      "grid_auto_columns": null,
      "grid_auto_flow": null,
      "grid_auto_rows": null,
      "grid_column": null,
      "grid_gap": null,
      "grid_row": null,
      "grid_template_areas": null,
      "grid_template_columns": null,
      "grid_template_rows": null,
      "height": null,
      "justify_content": null,
      "justify_items": null,
      "left": null,
      "margin": null,
      "max_height": null,
      "max_width": null,
      "min_height": null,
      "min_width": null,
      "object_fit": null,
      "object_position": null,
      "order": null,
      "overflow": null,
      "overflow_x": null,
      "overflow_y": null,
      "padding": null,
      "right": null,
      "top": null,
      "visibility": null,
      "width": null
     }
    },
    "4d4c1bc995614757aed2ac29865cd9cd": {
     "model_module": "@jupyter-widgets/controls",
     "model_module_version": "1.5.0",
     "model_name": "DescriptionStyleModel",
     "state": {
      "_model_module": "@jupyter-widgets/controls",
      "_model_module_version": "1.5.0",
      "_model_name": "DescriptionStyleModel",
      "_view_count": null,
      "_view_module": "@jupyter-widgets/base",
      "_view_module_version": "1.2.0",
      "_view_name": "StyleView",
      "description_width": ""
     }
    },
    "63c9d1d5b53e40119cd656a4e8538ca7": {
     "model_module": "@jupyter-widgets/base",
     "model_module_version": "1.2.0",
     "model_name": "LayoutModel",
     "state": {
      "_model_module": "@jupyter-widgets/base",
      "_model_module_version": "1.2.0",
      "_model_name": "LayoutModel",
      "_view_count": null,
      "_view_module": "@jupyter-widgets/base",
      "_view_module_version": "1.2.0",
      "_view_name": "LayoutView",
      "align_content": null,
      "align_items": null,
      "align_self": null,
      "border": null,
      "bottom": null,
      "display": null,
      "flex": null,
      "flex_flow": null,
      "grid_area": null,
      "grid_auto_columns": null,
      "grid_auto_flow": null,
      "grid_auto_rows": null,
      "grid_column": null,
      "grid_gap": null,
      "grid_row": null,
      "grid_template_areas": null,
      "grid_template_columns": null,
      "grid_template_rows": null,
      "height": null,
      "justify_content": null,
      "justify_items": null,
      "left": null,
      "margin": null,
      "max_height": null,
      "max_width": null,
      "min_height": null,
      "min_width": null,
      "object_fit": null,
      "object_position": null,
      "order": null,
      "overflow": null,
      "overflow_x": null,
      "overflow_y": null,
      "padding": null,
      "right": null,
      "top": null,
      "visibility": null,
      "width": null
     }
    },
    "6de5cd00fe9340a0b7a6c2f9ff381c56": {
     "model_module": "@jupyter-widgets/controls",
     "model_module_version": "1.5.0",
     "model_name": "ProgressStyleModel",
     "state": {
      "_model_module": "@jupyter-widgets/controls",
      "_model_module_version": "1.5.0",
      "_model_name": "ProgressStyleModel",
      "_view_count": null,
      "_view_module": "@jupyter-widgets/base",
      "_view_module_version": "1.2.0",
      "_view_name": "StyleView",
      "bar_color": null,
      "description_width": ""
     }
    },
    "8339794b1d0142828f5157368b4cf3c7": {
     "model_module": "@jupyter-widgets/controls",
     "model_module_version": "1.5.0",
     "model_name": "FloatProgressModel",
     "state": {
      "_dom_classes": [],
      "_model_module": "@jupyter-widgets/controls",
      "_model_module_version": "1.5.0",
      "_model_name": "FloatProgressModel",
      "_view_count": null,
      "_view_module": "@jupyter-widgets/controls",
      "_view_module_version": "1.5.0",
      "_view_name": "ProgressView",
      "bar_style": "success",
      "description": "",
      "description_tooltip": null,
      "layout": "IPY_MODEL_bd996035a8fe48f79a98bac2b8dac1d0",
      "max": 1006,
      "min": 0,
      "orientation": "horizontal",
      "style": "IPY_MODEL_6de5cd00fe9340a0b7a6c2f9ff381c56",
      "value": 1006
     }
    },
    "8d002504a998488b85307e1dfa5f01ad": {
     "model_module": "@jupyter-widgets/controls",
     "model_module_version": "1.5.0",
     "model_name": "DescriptionStyleModel",
     "state": {
      "_model_module": "@jupyter-widgets/controls",
      "_model_module_version": "1.5.0",
      "_model_name": "DescriptionStyleModel",
      "_view_count": null,
      "_view_module": "@jupyter-widgets/base",
      "_view_module_version": "1.2.0",
      "_view_name": "StyleView",
      "description_width": ""
     }
    },
    "9a999073d4334976afc36f0672b49d51": {
     "model_module": "@jupyter-widgets/controls",
     "model_module_version": "1.5.0",
     "model_name": "HTMLModel",
     "state": {
      "_dom_classes": [],
      "_model_module": "@jupyter-widgets/controls",
      "_model_module_version": "1.5.0",
      "_model_name": "HTMLModel",
      "_view_count": null,
      "_view_module": "@jupyter-widgets/controls",
      "_view_module_version": "1.5.0",
      "_view_name": "HTMLView",
      "description": "",
      "description_tooltip": null,
      "layout": "IPY_MODEL_f1d1a29f8fec402fa969d5198857ad5f",
      "placeholder": "​",
      "style": "IPY_MODEL_8d002504a998488b85307e1dfa5f01ad",
      "value": "100%"
     }
    },
    "bd996035a8fe48f79a98bac2b8dac1d0": {
     "model_module": "@jupyter-widgets/base",
     "model_module_version": "1.2.0",
     "model_name": "LayoutModel",
     "state": {
      "_model_module": "@jupyter-widgets/base",
      "_model_module_version": "1.2.0",
      "_model_name": "LayoutModel",
      "_view_count": null,
      "_view_module": "@jupyter-widgets/base",
      "_view_module_version": "1.2.0",
      "_view_name": "LayoutView",
      "align_content": null,
      "align_items": null,
      "align_self": null,
      "border": null,
      "bottom": null,
      "display": null,
      "flex": null,
      "flex_flow": null,
      "grid_area": null,
      "grid_auto_columns": null,
      "grid_auto_flow": null,
      "grid_auto_rows": null,
      "grid_column": null,
      "grid_gap": null,
      "grid_row": null,
      "grid_template_areas": null,
      "grid_template_columns": null,
      "grid_template_rows": null,
      "height": null,
      "justify_content": null,
      "justify_items": null,
      "left": null,
      "margin": null,
      "max_height": null,
      "max_width": null,
      "min_height": null,
      "min_width": null,
      "object_fit": null,
      "object_position": null,
      "order": null,
      "overflow": null,
      "overflow_x": null,
      "overflow_y": null,
      "padding": null,
      "right": null,
      "top": null,
      "visibility": null,
      "width": null
     }
    },
    "e273738ba65c40d69589e61563184fa0": {
     "model_module": "@jupyter-widgets/controls",
     "model_module_version": "1.5.0",
     "model_name": "HBoxModel",
     "state": {
      "_dom_classes": [],
      "_model_module": "@jupyter-widgets/controls",
      "_model_module_version": "1.5.0",
      "_model_name": "HBoxModel",
      "_view_count": null,
      "_view_module": "@jupyter-widgets/controls",
      "_view_module_version": "1.5.0",
      "_view_name": "HBoxView",
      "box_style": "",
      "children": [
       "IPY_MODEL_9a999073d4334976afc36f0672b49d51",
       "IPY_MODEL_8339794b1d0142828f5157368b4cf3c7",
       "IPY_MODEL_47aaaceead2f4655957559cb1653cc3a"
      ],
      "layout": "IPY_MODEL_63c9d1d5b53e40119cd656a4e8538ca7"
     }
    },
    "f1d1a29f8fec402fa969d5198857ad5f": {
     "model_module": "@jupyter-widgets/base",
     "model_module_version": "1.2.0",
     "model_name": "LayoutModel",
     "state": {
      "_model_module": "@jupyter-widgets/base",
      "_model_module_version": "1.2.0",
      "_model_name": "LayoutModel",
      "_view_count": null,
      "_view_module": "@jupyter-widgets/base",
      "_view_module_version": "1.2.0",
      "_view_name": "LayoutView",
      "align_content": null,
      "align_items": null,
      "align_self": null,
      "border": null,
      "bottom": null,
      "display": null,
      "flex": null,
      "flex_flow": null,
      "grid_area": null,
      "grid_auto_columns": null,
      "grid_auto_flow": null,
      "grid_auto_rows": null,
      "grid_column": null,
      "grid_gap": null,
      "grid_row": null,
      "grid_template_areas": null,
      "grid_template_columns": null,
      "grid_template_rows": null,
      "height": null,
      "justify_content": null,
      "justify_items": null,
      "left": null,
      "margin": null,
      "max_height": null,
      "max_width": null,
      "min_height": null,
      "min_width": null,
      "object_fit": null,
      "object_position": null,
      "order": null,
      "overflow": null,
      "overflow_x": null,
      "overflow_y": null,
      "padding": null,
      "right": null,
      "top": null,
      "visibility": null,
      "width": null
     }
    }
   }
  }
 },
 "nbformat": 4,
 "nbformat_minor": 4
}
